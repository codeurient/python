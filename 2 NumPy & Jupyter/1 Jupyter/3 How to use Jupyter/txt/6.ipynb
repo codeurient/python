{
 "cells": [
  {
   "cell_type": "code",
   "execution_count": 5,
   "id": "d452dc93-d127-44df-a2b0-790563289946",
   "metadata": {},
   "outputs": [
    {
     "name": "stdout",
     "output_type": "stream",
     "text": [
      "<class 'numpy.str_'>\n"
     ]
    }
   ],
   "source": [
    "import numpy as np\n",
    "\n",
    "# 1. list ile riyazi emeliyyatlar aparilmir. Array ile riyazi emeliyyatlar aparilir. \n",
    "# 2. Array list-den daha az yer tutur. \n",
    "# 3. Array list-den daha suretli isleyir. \n",
    "# 4. list icinde ferqli tipde deyerler yazmaq mumkundur. Array tipinde sadece bir tipde deyerler yazmaq mumkundur. \n",
    "# Yeni array tipinde sadece tam ededler yaxud sadece kesir ededler ve.s ola biler. Hem tam hem kesir eded birlikde \n",
    "# istifade edilmir.\n",
    "\n",
    "l1 = np.array([10, 20, '30'])\n",
    "print( type(l1[2])  )"
   ]
  },
  {
   "cell_type": "code",
   "execution_count": 6,
   "id": "30a9f22e-d50d-4b67-835c-6e38256cf775",
   "metadata": {},
   "outputs": [
    {
     "name": "stdout",
     "output_type": "stream",
     "text": [
      "<class 'str'>\n"
     ]
    }
   ],
   "source": [
    "l1 = [10, 20, '30']\n",
    "print( type(l1[2]) )"
   ]
  }
 ],
 "metadata": {
  "kernelspec": {
   "display_name": "Python 3 (ipykernel)",
   "language": "python",
   "name": "python3"
  },
  "language_info": {
   "codemirror_mode": {
    "name": "ipython",
    "version": 3
   },
   "file_extension": ".py",
   "mimetype": "text/x-python",
   "name": "python",
   "nbconvert_exporter": "python",
   "pygments_lexer": "ipython3",
   "version": "3.11.4"
  }
 },
 "nbformat": 4,
 "nbformat_minor": 5
}
