{
 "cells": [
  {
   "cell_type": "code",
   "execution_count": 3,
   "id": "d452dc93-d127-44df-a2b0-790563289946",
   "metadata": {},
   "outputs": [
    {
     "name": "stdout",
     "output_type": "stream",
     "text": [
      "[ 50 100 150]\n"
     ]
    }
   ],
   "source": [
    "# * vurma operatoru istifade etdikde 5 deyeri ayri-ayri l1 array-inin butun deyerlerine \n",
    "# vurulacaqdir\n",
    "import numpy as np\n",
    "\n",
    "l1 = np.array([10, 20, 30])\n",
    "l2 = np.array([5])\n",
    "print( l1 * l2 )"
   ]
  },
  {
   "cell_type": "code",
   "execution_count": 5,
   "id": "30a9f22e-d50d-4b67-835c-6e38256cf775",
   "metadata": {},
   "outputs": [
    {
     "name": "stdout",
     "output_type": "stream",
     "text": [
      "[10, 20, 30, 10, 20, 30, 10, 20, 30, 10, 20, 30, 10, 20, 30]\n"
     ]
    }
   ],
   "source": [
    "# * vurma operatoru istifade etdikde l1 listi 5 defe tekrarlanacaqdir\n",
    "l1 = [10, 20, 30]\n",
    "l2 = 5\n",
    "print( l1 * l2 )"
   ]
  }
 ],
 "metadata": {
  "kernelspec": {
   "display_name": "Python 3 (ipykernel)",
   "language": "python",
   "name": "python3"
  },
  "language_info": {
   "codemirror_mode": {
    "name": "ipython",
    "version": 3
   },
   "file_extension": ".py",
   "mimetype": "text/x-python",
   "name": "python",
   "nbconvert_exporter": "python",
   "pygments_lexer": "ipython3",
   "version": "3.11.4"
  }
 },
 "nbformat": 4,
 "nbformat_minor": 5
}
