{
 "cells": [
  {
   "cell_type": "code",
   "execution_count": 5,
   "id": "d452dc93-d127-44df-a2b0-790563289946",
   "metadata": {},
   "outputs": [
    {
     "name": "stdout",
     "output_type": "stream",
     "text": [
      "<class 'numpy.str_'>\n"
     ]
    }
   ],
   "source": [
    "# NumPy array icindeki butun daxili array-larin eyni uzunluqda olmasını teleb edir.\n",
    "# list ucun bele bir qayda yoxdur.\n",
    "\n",
    "# NumPy kitabxanasi ile array yaratdiqda array() metodundan istifade edilir. Daxili \n",
    "# array-lar ucun ise array() metodundan istifade etmeye ehtiyac yoxdur, cunki NumPy\n",
    "# avtomatik olaraq [] kvadrat moterizeni array-ya cevirir.\n",
    "import numpy as np\n",
    "\n",
    "qutu1 = np.array([[1, 2, 3], [4, 5], [6, 7, 8, 9]]) # Yanlis yazilis qaydasi\n",
    "qutu2 = np.array([[1, 2, 3], [4, 5, 6], [7, 8, 9]]) # Dogru  yazilis qaydasi\n"
   ]
  },
  {
   "cell_type": "code",
   "execution_count": 6,
   "id": "30a9f22e-d50d-4b67-835c-6e38256cf775",
   "metadata": {},
   "outputs": [
    {
     "name": "stdout",
     "output_type": "stream",
     "text": [
      "<class 'str'>\n"
     ]
    }
   ],
   "source": [
    "# list icerisine yeni deyerler elave etmek yaxud list icerisinden deyer silme cox rahatdir\n",
    "\n",
    "# array icerisine yeni deyer elave etmek ucun ise, yeni array yaratmaq lazim gele bilir.\n",
    "\n",
    "l1 = [[1, 2, 3], [4, 5], [6, 7, 8, 9]]  # Dogru yazilis qaydasi\n",
    "l1 = [[1, 2, 3], [4, 5, 9], [6, 7, 8]]  # Dogru yazilis qaydasi"
   ]
  }
 ],
 "metadata": {
  "kernelspec": {
   "display_name": "Python 3 (ipykernel)",
   "language": "python",
   "name": "python3"
  },
  "language_info": {
   "codemirror_mode": {
    "name": "ipython",
    "version": 3
   },
   "file_extension": ".py",
   "mimetype": "text/x-python",
   "name": "python",
   "nbconvert_exporter": "python",
   "pygments_lexer": "ipython3",
   "version": "3.11.4"
  }
 },
 "nbformat": 4,
 "nbformat_minor": 5
}
