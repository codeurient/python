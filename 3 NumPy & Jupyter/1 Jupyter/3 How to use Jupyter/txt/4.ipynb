{
 "cells": [
  {
   "cell_type": "code",
   "execution_count": 6,
   "id": "d452dc93-d127-44df-a2b0-790563289946",
   "metadata": {},
   "outputs": [
    {
     "name": "stdout",
     "output_type": "stream",
     "text": [
      "[50 70 90]\n"
     ]
    }
   ],
   "source": [
    "# main.ipynb formatinda fayl yaradaraq, kodlarimizi VScode terefinde de yaza bilerik. main.py kimi.\n",
    "import numpy as np\n",
    "\n",
    "# [] kvadrat moterize ile yaradilan 'list' tipini 'array' tipine cevirmek ucun numpy kitabxanasinin array() metodundan \n",
    "# istifade edilir. Array tipinden istifade etdikde + toplama operatoru deyerleri toplayacaqdir.\n",
    "l1 = np.array([10, 20, 30])\n",
    "l2 = np.array([40, 50, 60])\n",
    "print( l1 + l2 )"
   ]
  },
  {
   "cell_type": "code",
   "execution_count": 7,
   "id": "30a9f22e-d50d-4b67-835c-6e38256cf775",
   "metadata": {},
   "outputs": [
    {
     "name": "stdout",
     "output_type": "stream",
     "text": [
      "[10, 20, 30, 40, 50, 60]\n"
     ]
    }
   ],
   "source": [
    "# list tipinden istifade etdikde + toplama operatoru deyerleri birlesdirir.\n",
    "l1 = [10, 20, 30]\n",
    "l2 = [40, 50, 60]\n",
    "print( l1 + l2 )"
   ]
  }
 ],
 "metadata": {
  "kernelspec": {
   "display_name": "Python 3 (ipykernel)",
   "language": "python",
   "name": "python3"
  },
  "language_info": {
   "codemirror_mode": {
    "name": "ipython",
    "version": 3
   },
   "file_extension": ".py",
   "mimetype": "text/x-python",
   "name": "python",
   "nbconvert_exporter": "python",
   "pygments_lexer": "ipython3",
   "version": "3.11.4"
  }
 },
 "nbformat": 4,
 "nbformat_minor": 5
}
